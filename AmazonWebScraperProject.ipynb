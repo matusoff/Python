{
  "nbformat": 4,
  "nbformat_minor": 0,
  "metadata": {
    "colab": {
      "provenance": [],
      "authorship_tag": "ABX9TyOkVRUbuKb61cN7u5mc1gP7",
      "include_colab_link": true
    },
    "kernelspec": {
      "name": "python3",
      "display_name": "Python 3"
    },
    "language_info": {
      "name": "python"
    }
  },
  "cells": [
    {
      "cell_type": "markdown",
      "metadata": {
        "id": "view-in-github",
        "colab_type": "text"
      },
      "source": [
        "<a href=\"https://colab.research.google.com/github/matusoff/Python/blob/master/AmazonWebScraperProject.ipynb\" target=\"_parent\"><img src=\"https://colab.research.google.com/assets/colab-badge.svg\" alt=\"Open In Colab\"/></a>"
      ]
    },
    {
      "cell_type": "code",
      "execution_count": 1,
      "metadata": {
        "id": "TMQ1fVHsYmKK"
      },
      "outputs": [],
      "source": [
        "# import libraries\n",
        "#!pip install bs4\n",
        "from bs4 import BeautifulSoup\n",
        "import requests\n",
        "import time\n",
        "import datetime\n",
        "\n",
        "import smtplib"
      ]
    },
    {
      "cell_type": "code",
      "source": [
        "# Connect to Website and pull in data\n",
        "\n",
        "URL = 'https://www.amazon.com/Tribesigns-Computer-Writing-Workstation-Vintage/dp/B0BR3NXTKK/ref=sr_1_2_sspa?crid=3UB5DVHY2MLNN&dib=eyJ2IjoiMSJ9.e9Nr54pqu-ARfptoR3ZvNcvcm8wOBmLhFNKEnEFW3DlYm8OJdfdtFfdwZJ_dfW_nqNMLDEd-HmO91jwAsiYsZA.t9Bsi6jmVMk4-mFaCKXBiNR8_4Ar7-lvQ6O4C9NzX60&dib_tag=se&keywords=computer%2Btable&qid=1704949850&sprefix=computer%2Btable%2Caps%2C89&sr=8-2-spons&sp_csd=d2lkZ2V0TmFtZT1zcF9hdGY&th=1'\n",
        "\n",
        "headers = {\"User-Agent\": \"Mozilla/5.0 (Windows NT 10.0; Win64; x64) AppleWebKit/537.36 (KHTML, like Gecko) Chrome/78.0.3904.108 Safari/537.36\", \"Accept-Encoding\":\"gzip, deflate\", \"Accept\":\"text/html,application/xhtml+xml,application/xml;q=0.9,*/*;q=0.8\", \"DNT\":\"1\",\"Connection\":\"close\", \"Upgrade-Insecure-Requests\":\"1\"}\n",
        "\n",
        "page = requests.get(URL, headers=headers)\n",
        "\n",
        "soup1 = BeautifulSoup(page.content, \"html.parser\")\n",
        "\n",
        "soup2 = BeautifulSoup(soup1.prettify(), \"html.parser\")\n",
        "\n",
        "title = soup2.find(id='productTitle').get_text()\n",
        "price = soup2.find(id='corePriceDisplay_desktop_feature_div').get_text()\n",
        "\n",
        "print(title)\n",
        "print(price)"
      ],
      "metadata": {
        "colab": {
          "base_uri": "https://localhost:8080/"
        },
        "id": "EOtlaEoDimtu",
        "outputId": "250f2068-9e3e-4b02-d9e7-bf422640091e"
      },
      "execution_count": 12,
      "outputs": [
        {
          "output_type": "stream",
          "name": "stdout",
          "text": [
            "\n",
            "             Tribesigns Modern Computer Desk, 63 x 31.5 inch Large Office Desk Computer Table Study Writing Desk Workstation for Home Office, Vintage Black Metal Frame\n",
            "            \n",
            "\n",
            "\n",
            "\n",
            "\n",
            "               $169.99\n",
            "              \n",
            "\n",
            "\n",
            "\n",
            "\n",
            "\n",
            "                 $\n",
            "                \n",
            "\n",
            "                 169\n",
            "                 \n",
            "                  .\n",
            "                 \n",
            "\n",
            "\n",
            "                 99\n",
            "                \n",
            "\n",
            "\n",
            "\n",
            "\n",
            "\n",
            "\n",
            "\n",
            "\n"
          ]
        }
      ]
    },
    {
      "cell_type": "code",
      "source": [
        "# Clean up the data\n",
        "import re\n",
        "'''\n",
        "in same cases use this line\n",
        "# price = price.strip()[1:]\n",
        "\n",
        "or\n",
        "\n",
        "original_price = \"your_original_string_here\"  # Replace with your original string\n",
        "match = re.search(r'\\d+\\.\\d+', original_price)\n",
        "\n",
        "if match:\n",
        "    price = float(match.group())\n",
        "    rounded_price = round(price, 2)\n",
        "    print(rounded_price)\n",
        "else:\n",
        "    print(\"No valid price found in the string\")\n",
        "\n",
        "'''\n",
        "\n",
        "#Remove all unnecessary characters (keeping only numbers and dot)\n",
        "price = re.sub(r'[^\\d.]+', '', price )\n",
        "\n",
        "title = title.strip()\n",
        "price = price.strip()[:6]\n",
        "\n",
        "print(title)\n",
        "print(price)"
      ],
      "metadata": {
        "colab": {
          "base_uri": "https://localhost:8080/"
        },
        "id": "Gmx0SlPhY-ZX",
        "outputId": "6f930bef-f35a-49aa-8797-13b48629e9df"
      },
      "execution_count": 14,
      "outputs": [
        {
          "output_type": "stream",
          "name": "stdout",
          "text": [
            "Tribesigns Modern Computer Desk, 63 x 31.5 inch Large Office Desk Computer Table Study Writing Desk Workstation for Home Office, Vintage Black Metal Frame\n",
            "169.99\n"
          ]
        }
      ]
    },
    {
      "cell_type": "code",
      "source": [
        "# Create a Timestamp for your output to track when data was collected\n",
        "\n",
        "import datetime\n",
        "\n",
        "today = datetime.date.today()\n",
        "\n",
        "print(today)"
      ],
      "metadata": {
        "colab": {
          "base_uri": "https://localhost:8080/"
        },
        "id": "Gv-a7GGSizQ0",
        "outputId": "ea702260-a4b3-42ea-bae1-f97150d88008"
      },
      "execution_count": 15,
      "outputs": [
        {
          "output_type": "stream",
          "name": "stdout",
          "text": [
            "2024-01-12\n"
          ]
        }
      ]
    },
    {
      "cell_type": "code",
      "source": [
        "# Create CSV and write headers and data into the file\n",
        "\n",
        "import csv\n",
        "\n",
        "header = ['Title', 'Price', 'Date']\n",
        "data = [title, price, today]\n",
        "\n",
        "\n",
        "with open('AmazonWebScraperDataset.csv', 'w', newline='', encoding='UTF8') as f:\n",
        "    writer = csv.writer(f)\n",
        "    writer.writerow(header)\n",
        "    writer.writerow(data)"
      ],
      "metadata": {
        "id": "q5LDo0FikKOy"
      },
      "execution_count": 16,
      "outputs": []
    },
    {
      "cell_type": "code",
      "source": [
        "import pandas as pd\n",
        "\n",
        "df = pd.read_csv(r'/content/AmazonWebScraperDataset.csv')\n",
        "\n",
        "print(df)"
      ],
      "metadata": {
        "colab": {
          "base_uri": "https://localhost:8080/"
        },
        "id": "1vZUL99OkLHp",
        "outputId": "09f87ded-1cf1-4b1e-9c34-da931505ac35"
      },
      "execution_count": 17,
      "outputs": [
        {
          "output_type": "stream",
          "name": "stdout",
          "text": [
            "                                               Title   Price        Date\n",
            "0  Tribesigns Modern Computer Desk, 63 x 31.5 inc...  169.99  2024-01-12\n"
          ]
        }
      ]
    },
    {
      "cell_type": "code",
      "source": [
        "#Now we are appending data to the csv\n",
        "\n",
        "with open('AmazonWebScraperDataset.csv', 'a+', newline='', encoding='UTF8') as f:\n",
        "    writer = csv.writer(f)\n",
        "    writer.writerow(data)"
      ],
      "metadata": {
        "id": "7i65y4yzkfua"
      },
      "execution_count": 18,
      "outputs": []
    },
    {
      "cell_type": "code",
      "source": [
        "#Combine all of the above code into one function\n",
        "\n",
        "\n",
        "def check_price():\n",
        "    URL = 'https://www.amazon.com/dp/B08LKHCRWB/ref=sspa_dk_detail_3?psc=1&pd_rd_i=B08LKHCRWB&pd_rd_w=St3Ay&content-id=amzn1.sym.eb7c1ac5-7c51-4df5-ba34-ca810f1f119a&pf_rd_p=eb7c1ac5-7c51-4df5-ba34-ca810f1f119a&pf_rd_r=PD71HYQAR7B0D1BMNNNX&pd_rd_wg=EKbYx&pd_rd_r=b1fb8da5-e5e2-4b52-989b-feb0c686fbfa&s=apparel&sp_csd=d2lkZ2V0TmFtZT1zcF9kZXRhaWw'\n",
        "\n",
        "    headers = {\"User-Agent\": \"Mozilla/5.0 (Windows NT 10.0; Win64; x64) AppleWebKit/537.36 (KHTML, like Gecko) Chrome/78.0.3904.108 Safari/537.36\", \"Accept-Encoding\":\"gzip, deflate\", \"Accept\":\"text/html,application/xhtml+xml,application/xml;q=0.9,*/*;q=0.8\", \"DNT\":\"1\",\"Connection\":\"close\", \"Upgrade-Insecure-Requests\":\"1\"}\n",
        "\n",
        "    page = requests.get(URL, headers=headers)\n",
        "\n",
        "    soup1 = BeautifulSoup(page.content, \"html.parser\")\n",
        "\n",
        "    soup2 = BeautifulSoup(soup1.prettify(), \"html.parser\")\n",
        "\n",
        "    title = soup2.find(id='productTitle').get_text()\n",
        "\n",
        "    price = soup2.find(id='corePriceDisplay_desktop_feature_div').get_text()\n",
        "\n",
        "    price = re.sub(r'[^\\d.]+', '', price)\n",
        "    title = title.strip()\n",
        "\n",
        "    import datetime\n",
        "\n",
        "    today = datetime.date.today()\n",
        "\n",
        "    import csv\n",
        "\n",
        "    header = ['Title', 'Price', 'Date']\n",
        "    data = [title, price, today]\n",
        "\n",
        "    with open('AmazonWebScraperDataset.csv', 'a+', newline='', encoding='UTF8') as f:\n",
        "        writer = csv.writer(f)\n",
        "        writer.writerow(data)\n"
      ],
      "metadata": {
        "id": "4zWU26AnkmlB"
      },
      "execution_count": 19,
      "outputs": []
    },
    {
      "cell_type": "code",
      "source": [
        "# Runs check_price after a set time and inputs data into your CSV\n",
        "#evry single day\n",
        "\n",
        "while(True):\n",
        "    check_price()\n",
        "    time.sleep(86400)\n"
      ],
      "metadata": {
        "id": "kAIphllhlFOY"
      },
      "execution_count": null,
      "outputs": []
    },
    {
      "cell_type": "code",
      "source": [
        "import pandas as pd\n",
        "\n",
        "df = pd.read_csv(r'/content/AmazonWebScraperDataset.csv')\n",
        "\n",
        "print(df)"
      ],
      "metadata": {
        "colab": {
          "base_uri": "https://localhost:8080/"
        },
        "id": "qVYimNgNpUpJ",
        "outputId": "6c57c52a-b1c1-4bb8-a4f4-0fda13c94455"
      },
      "execution_count": 20,
      "outputs": [
        {
          "output_type": "stream",
          "name": "stdout",
          "text": [
            "                                               Title   Price        Date\n",
            "0  Tribesigns Modern Computer Desk, 63 x 31.5 inc...  169.99  2024-01-12\n",
            "1  Tribesigns Modern Computer Desk, 63 x 31.5 inc...  169.99  2024-01-12\n"
          ]
        }
      ]
    }
  ]
}